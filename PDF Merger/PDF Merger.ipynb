{
 "cells": [
  {
   "cell_type": "code",
   "execution_count": 1,
   "id": "0762fca4",
   "metadata": {
    "collapsed": true
   },
   "outputs": [
    {
     "name": "stdout",
     "output_type": "stream",
     "text": [
      "Collecting PyPDF2\n",
      "  Downloading pypdf2-3.0.1-py3-none-any.whl (232 kB)\n",
      "     ---------------------------------------- 0.0/232.6 kB ? eta -:--:--\n",
      "     ------ ------------------------------ 41.0/232.6 kB 991.0 kB/s eta 0:00:01\n",
      "     ------ ------------------------------ 41.0/232.6 kB 991.0 kB/s eta 0:00:01\n",
      "     --------- --------------------------- 61.4/232.6 kB 409.6 kB/s eta 0:00:01\n",
      "     ------------- ----------------------- 81.9/232.6 kB 416.7 kB/s eta 0:00:01\n",
      "     -------------- ---------------------- 92.2/232.6 kB 438.1 kB/s eta 0:00:01\n",
      "     -------------- ---------------------- 92.2/232.6 kB 438.1 kB/s eta 0:00:01\n",
      "     --------------- -------------------- 102.4/232.6 kB 295.4 kB/s eta 0:00:01\n",
      "     ----------------------- ------------ 153.6/232.6 kB 416.7 kB/s eta 0:00:01\n",
      "     ----------------------- ------------ 153.6/232.6 kB 416.7 kB/s eta 0:00:01\n",
      "     ----------------------- ------------ 153.6/232.6 kB 416.7 kB/s eta 0:00:01\n",
      "     ------------------------------- ---- 204.8/232.6 kB 389.1 kB/s eta 0:00:01\n",
      "     ------------------------------------ 232.6/232.6 kB 418.7 kB/s eta 0:00:00\n",
      "Requirement already satisfied: typing_extensions>=3.10.0.0 in c:\\users\\dlam1\\anaconda3\\lib\\site-packages (from PyPDF2) (4.10.0)\n",
      "Installing collected packages: PyPDF2\n",
      "Successfully installed PyPDF2-3.0.1\n",
      "Note: you may need to restart the kernel to use updated packages.\n"
     ]
    }
   ],
   "source": [
    "# pip install PyPDF2"
   ]
  },
  {
   "cell_type": "markdown",
   "id": "550c074b",
   "metadata": {},
   "source": [
    "# Code required for PDF Merger"
   ]
  },
  {
   "cell_type": "code",
   "execution_count": 8,
   "id": "62c05fa5",
   "metadata": {},
   "outputs": [],
   "source": [
    "import PyPDF2\n",
    "import os\n",
    "\n",
    "merger = PyPDF2.PdfMerger()\n",
    "\n",
    "for file in os.listdir(os.curdir):\n",
    "    if file.endswith(\".pdf\"):\n",
    "        merger.append(file)\n",
    "\n",
    "# Write the merged PDF file outside the loop\n",
    "merger.write(\"combinedDocs.pdf\")\n",
    "merger.close()\n"
   ]
  }
 ],
 "metadata": {
  "kernelspec": {
   "display_name": "Python 3 (ipykernel)",
   "language": "python",
   "name": "python3"
  },
  "language_info": {
   "codemirror_mode": {
    "name": "ipython",
    "version": 3
   },
   "file_extension": ".py",
   "mimetype": "text/x-python",
   "name": "python",
   "nbconvert_exporter": "python",
   "pygments_lexer": "ipython3",
   "version": "3.9.7"
  }
 },
 "nbformat": 4,
 "nbformat_minor": 5
}
