{
 "cells": [
  {
   "cell_type": "markdown",
   "id": "5ad23979",
   "metadata": {},
   "source": [
    "# YouTube Video Downloader"
   ]
  },
  {
   "cell_type": "markdown",
   "id": "88fa7260",
   "metadata": {},
   "source": [
    "## First, install pytube if you have not installed it yet."
   ]
  },
  {
   "cell_type": "code",
   "execution_count": 1,
   "id": "7fe4cbeb",
   "metadata": {},
   "outputs": [
    {
     "name": "stdout",
     "output_type": "stream",
     "text": [
      "Collecting pytube\n",
      "  Downloading pytube-15.0.0-py3-none-any.whl (57 kB)\n",
      "     ---------------------------------------- 0.0/57.6 kB ? eta -:--:--\n",
      "     ---------------------------------------- 57.6/57.6 kB 1.5 MB/s eta 0:00:00\n",
      "Installing collected packages: pytube\n",
      "Successfully installed pytube-15.0.0\n",
      "Note: you may need to restart the kernel to use updated packages.\n"
     ]
    }
   ],
   "source": [
    "# pip install pytube"
   ]
  },
  {
   "cell_type": "markdown",
   "id": "a428b4a4",
   "metadata": {},
   "source": [
    "## Code required to have your very own YouTube downloader"
   ]
  },
  {
   "cell_type": "code",
   "execution_count": 5,
   "id": "d6ebf964",
   "metadata": {},
   "outputs": [
    {
     "name": "stdout",
     "output_type": "stream",
     "text": [
      "Enter the YouTube video link: https://www.youtube.com/watch?v=Cqd1Gvq-RBY\n",
      "Title: Numa Numa\n",
      "Views: 2596475\n"
     ]
    },
    {
     "data": {
      "text/plain": [
       "'C:\\\\Users\\\\dlam1\\\\OneDrive\\\\Desktop\\\\Data Analysis Portfolio\\\\Unfinished Projects\\\\YouTube Downloader\\\\Numa Numa.mp4'"
      ]
     },
     "execution_count": 5,
     "metadata": {},
     "output_type": "execute_result"
    }
   ],
   "source": [
    "from pytube import YouTube\n",
    "\n",
    "# Manually provide the link variable\n",
    "link = input(\"Enter the YouTube video link: \")\n",
    "\n",
    "# Initialize a YouTube object with the provided link\n",
    "yt = YouTube(link)\n",
    "\n",
    "# Print the title and views of the YouTube video\n",
    "print(\"Title:\", yt.title)\n",
    "print(\"Views:\", yt.views)\n",
    "\n",
    "# Gathers the YouTube video in highest resolution\n",
    "yd = yt.streams.get_highest_resolution()\n",
    "\n",
    "download_path = r\"C:\\Users\\dlam1\\OneDrive\\Desktop\\Data Analysis Portfolio\\Unfinished Projects\\YouTube Downloader\"\n",
    "# Downloads your requested youtube video via your download path\n",
    "yd.download(download_path)"
   ]
  },
  {
   "cell_type": "code",
   "execution_count": null,
   "id": "5c4e1530",
   "metadata": {},
   "outputs": [],
   "source": []
  }
 ],
 "metadata": {
  "kernelspec": {
   "display_name": "Python 3 (ipykernel)",
   "language": "python",
   "name": "python3"
  },
  "language_info": {
   "codemirror_mode": {
    "name": "ipython",
    "version": 3
   },
   "file_extension": ".py",
   "mimetype": "text/x-python",
   "name": "python",
   "nbconvert_exporter": "python",
   "pygments_lexer": "ipython3",
   "version": "3.9.7"
  }
 },
 "nbformat": 4,
 "nbformat_minor": 5
}
